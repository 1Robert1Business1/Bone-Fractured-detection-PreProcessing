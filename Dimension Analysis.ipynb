{
 "cells": [
  {
   "cell_type": "markdown",
   "id": "bfb100c3-ebf2-486f-8b4d-73b645ccc4ab",
   "metadata": {},
   "source": [
    "**Experimenting with different image resolutions, from 28x28 upwards**"
   ]
  },
  {
   "cell_type": "code",
   "execution_count": 1,
   "id": "6b6c2cea-84be-49ea-bb0d-ff3db5665b24",
   "metadata": {},
   "outputs": [
    {
     "name": "stdout",
     "output_type": "stream",
     "text": [
      "Requirement already satisfied: pillow in /opt/jupyterhub/pyvenv/lib/python3.10/site-packages (10.0.1)\n",
      "\n",
      "\u001b[1m[\u001b[0m\u001b[34;49mnotice\u001b[0m\u001b[1;39;49m]\u001b[0m\u001b[39;49m A new release of pip is available: \u001b[0m\u001b[31;49m23.2.1\u001b[0m\u001b[39;49m -> \u001b[0m\u001b[32;49m24.0\u001b[0m\n",
      "\u001b[1m[\u001b[0m\u001b[34;49mnotice\u001b[0m\u001b[1;39;49m]\u001b[0m\u001b[39;49m To update, run: \u001b[0m\u001b[32;49mpip install --upgrade pip\u001b[0m\n",
      "Note: you may need to restart the kernel to use updated packages.\n"
     ]
    }
   ],
   "source": [
    "pip install pillow"
   ]
  },
  {
   "cell_type": "markdown",
   "id": "773c69ab-9b4b-479d-9467-95ce1442a35e",
   "metadata": {},
   "source": [
    "**Counting the Dataset**"
   ]
  },
  {
   "cell_type": "code",
   "execution_count": 3,
   "id": "89bc4061-0d10-45f7-b415-318cf759aa47",
   "metadata": {},
   "outputs": [
    {
     "name": "stdout",
     "output_type": "stream",
     "text": [
      "Directory: /home/elt/rw372/notebook/COMP8260 - A.I Systems/Project/Dataset/test/images, Image Count: 169\n",
      "Directory: /home/elt/rw372/notebook/COMP8260 - A.I Systems/Project/Dataset/train/images, Image Count: 3631\n",
      "Directory: /home/elt/rw372/notebook/COMP8260 - A.I Systems/Project/Dataset/valid/images, Image Count: 348\n"
     ]
    }
   ],
   "source": [
    "import os\n",
    "\n",
    "# Function to count the number of images in a directory\n",
    "def count_images_in_directory(directory):\n",
    "    image_count = 0\n",
    "    # Walk through the directory and its subdirectories\n",
    "    for root, _, files in os.walk(directory):\n",
    "        # Iterate over the files in the current directory\n",
    "        for file in files:\n",
    "            # Check if the file is a JPEG image\n",
    "            if file.endswith(\".jpg\"):\n",
    "                # Increment the image count\n",
    "                image_count += 1\n",
    "    return image_count\n",
    "\n",
    "# Directories to search for images\n",
    "directories = [\n",
    "    '/home/elt/rw372/notebook/COMP8260 - A.I Systems/Project/Dataset/test/images',\n",
    "    '/home/elt/rw372/notebook/COMP8260 - A.I Systems/Project/Dataset/train/images',\n",
    "    '/home/elt/rw372/notebook/COMP8260 - A.I Systems/Project/Dataset/valid/images'\n",
    "]\n",
    "\n",
    "# Iterate over each directory and count the images\n",
    "for directory in directories:\n",
    "    image_count = count_images_in_directory(directory)\n",
    "    print(f\"Directory: {directory}, Image Count: {image_count}\")"
   ]
  },
  {
   "cell_type": "markdown",
   "id": "7fc3f19b-32c9-4435-9a34-21b28ef68b90",
   "metadata": {},
   "source": [
    "**Different of Fractured and non-Fractured Images**"
   ]
  },
  {
   "cell_type": "code",
   "execution_count": 4,
   "id": "c2f19341-5858-4d91-961c-0aba5d324a41",
   "metadata": {},
   "outputs": [
    {
     "name": "stdout",
     "output_type": "stream",
     "text": [
      "Directory: /home/elt/rw372/notebook/COMP8260 - A.I Systems/Project/Dataset/test\n",
      "Total Images: 169\n",
      "Images with Labels: 83\n",
      "Images without Labels: 86\n",
      "\n",
      "Directory: /home/elt/rw372/notebook/COMP8260 - A.I Systems/Project/Dataset/train\n",
      "Total Images: 3631\n",
      "Images with Labels: 1804\n",
      "Images without Labels: 1827\n",
      "\n",
      "Directory: /home/elt/rw372/notebook/COMP8260 - A.I Systems/Project/Dataset/valid\n",
      "Total Images: 348\n",
      "Images with Labels: 173\n",
      "Images without Labels: 175\n",
      "\n"
     ]
    }
   ],
   "source": [
    "import os\n",
    "\n",
    "# Function to count the number of images with and without labels in a directory\n",
    "def count_images_with_labels(directory):\n",
    "    labeled_image_count = 0\n",
    "    unlabeled_image_count = 0\n",
    "    # Iterate over the directory and its subdirectories\n",
    "    for root, _, _ in os.walk(directory):\n",
    "        # Get the paths to the image and label directories\n",
    "        image_dir = os.path.join(root, 'images')\n",
    "        label_dir = os.path.join(root, 'labels')\n",
    "        # Iterate over the files in the image directory\n",
    "        for _, _, files in os.walk(image_dir):\n",
    "            for file in files:\n",
    "                # Check if the file is a JPEG image\n",
    "                if file.endswith(\".jpg\"):\n",
    "                    # Get the full paths to the image and label files\n",
    "                    image_path = os.path.join(image_dir, file)\n",
    "                    label_path = os.path.join(label_dir, file.replace(\".jpg\", \".txt\"))\n",
    "                    # Check if the label file exists\n",
    "                    if os.path.exists(label_path):\n",
    "                        # Read the content of the label file\n",
    "                        with open(label_path, 'r') as f:\n",
    "                            label_content = f.read().strip()\n",
    "                            # Check if the label has content\n",
    "                            if label_content:\n",
    "                                labeled_image_count += 1\n",
    "                            else:\n",
    "                                unlabeled_image_count += 1\n",
    "                    else:\n",
    "                        unlabeled_image_count += 1\n",
    "    return labeled_image_count, unlabeled_image_count\n",
    "\n",
    "# Directories to search for images and labels\n",
    "directories = [\n",
    "    '/home/elt/rw372/notebook/COMP8260 - A.I Systems/Project/Dataset/test',\n",
    "    '/home/elt/rw372/notebook/COMP8260 - A.I Systems/Project/Dataset/train',\n",
    "    '/home/elt/rw372/notebook/COMP8260 - A.I Systems/Project/Dataset/valid'\n",
    "]\n",
    "\n",
    "# Iterate over each directory and count the images with and without labels\n",
    "for directory in directories:\n",
    "    labeled_count, unlabeled_count = count_images_with_labels(directory)\n",
    "    total_count = labeled_count + unlabeled_count\n",
    "    # Print the counts for each directory\n",
    "    print(f\"Directory: {directory}\")\n",
    "    print(f\"Total Images: {total_count}\")\n",
    "    print(f\"Images with Labels: {labeled_count}\")\n",
    "    print(f\"Images without Labels: {unlabeled_count}\\n\")"
   ]
  },
  {
   "cell_type": "markdown",
   "id": "6986d017-6796-4c97-87ed-2e547c60a291",
   "metadata": {},
   "source": [
    "**Analysing the Different Dimensions**"
   ]
  },
  {
   "cell_type": "code",
   "execution_count": 5,
   "id": "ac114d73-e679-43eb-b652-53df2c7f9e99",
   "metadata": {},
   "outputs": [
    {
     "name": "stdout",
     "output_type": "stream",
     "text": [
      "Directory: /home/elt/rw372/notebook/COMP8260 - A.I Systems/Project/Dataset/test/images\n",
      "\n",
      "Top 5 dimensions with the highest counts:\n",
      "1. Dimension: (406, 512), Count: 20\n",
      "2. Dimension: (420, 512), Count: 18\n",
      "3. Dimension: (512, 406), Count: 15\n",
      "4. Dimension: (379, 512), Count: 6\n",
      "5. Dimension: (512, 420), Count: 6\n",
      "\n",
      "The number of images with one unique dimension: 79\n",
      "\n",
      "Directory: /home/elt/rw372/notebook/COMP8260 - A.I Systems/Project/Dataset/train/images\n",
      "\n",
      "Top 5 dimensions with the highest counts:\n",
      "1. Dimension: (420, 512), Count: 518\n",
      "2. Dimension: (406, 512), Count: 443\n",
      "3. Dimension: (512, 406), Count: 255\n",
      "4. Dimension: (512, 512), Count: 129\n",
      "5. Dimension: (512, 420), Count: 117\n",
      "\n",
      "The number of images with one unique dimension: 0\n",
      "\n",
      "Directory: /home/elt/rw372/notebook/COMP8260 - A.I Systems/Project/Dataset/valid/images\n",
      "\n",
      "Top 5 dimensions with the highest counts:\n",
      "1. Dimension: (420, 512), Count: 48\n",
      "2. Dimension: (406, 512), Count: 32\n",
      "3. Dimension: (512, 406), Count: 30\n",
      "4. Dimension: (512, 512), Count: 12\n",
      "5. Dimension: (379, 512), Count: 11\n",
      "\n",
      "The number of images with one unique dimension: 124\n",
      "\n"
     ]
    }
   ],
   "source": [
    "from collections import Counter\n",
    "import os\n",
    "from PIL import Image\n",
    "\n",
    "# Function to retrieve dimensions of images in a directory\n",
    "def get_image_dimensions(directory):\n",
    "    dimensions = []\n",
    "    # Iterate over the directory and its subdirectories\n",
    "    for root, _, files in os.walk(directory):\n",
    "        for file in files:\n",
    "            # Check if the file is a JPEG image\n",
    "            if file.endswith(\".jpg\"):\n",
    "                # Get the full path to the image file\n",
    "                image_path = os.path.join(root, file)\n",
    "                # Open the image file and get its dimensions\n",
    "                with Image.open(image_path) as img:\n",
    "                    dimensions.append(img.size)\n",
    "    return dimensions\n",
    "\n",
    "# Function to count the occurrences of each image dimension\n",
    "def count_image_dimensions(dimensions):\n",
    "    dimension_counts = Counter(dimensions)\n",
    "    return dimension_counts\n",
    "\n",
    "# Function to retrieve the top N dimensions with the highest counts\n",
    "def top_n_dimensions(dimension_counts, n=5):\n",
    "    top_n = dimension_counts.most_common(n)\n",
    "    return top_n\n",
    "\n",
    "# Function to count the number of dimensions with only one occurrence\n",
    "def count_single_dimensions(dimension_counts):\n",
    "    single_count_dimensions = sum(1 for count in dimension_counts.values() if count == 1)\n",
    "    return single_count_dimensions\n",
    "\n",
    "# Directories containing the images\n",
    "directories = [\n",
    "    '/home/elt/rw372/notebook/COMP8260 - A.I Systems/Project/Dataset/test/images',\n",
    "    '/home/elt/rw372/notebook/COMP8260 - A.I Systems/Project/Dataset/train/images',\n",
    "    '/home/elt/rw372/notebook/COMP8260 - A.I Systems/Project/Dataset/valid/images'\n",
    "]\n",
    "\n",
    "# Iterate over each directory and process the images\n",
    "for directory in directories:\n",
    "    print(f\"Directory: {directory}\\n\")\n",
    "    # Retrieve dimensions of images in the directory\n",
    "    dimensions = get_image_dimensions(directory)\n",
    "    # Count the occurrences of each image dimension\n",
    "    dimension_counts = count_image_dimensions(dimensions)\n",
    "    # Retrieve the top 5 dimensions with the highest counts\n",
    "    top_5 = top_n_dimensions(dimension_counts)\n",
    "    # Count the number of dimensions with only one occurrence\n",
    "    single_count = count_single_dimensions(dimension_counts)\n",
    "    \n",
    "    # Print the top 5 dimensions with the highest counts\n",
    "    print(\"Top 5 dimensions with the highest counts:\")\n",
    "    for i, (dimension, count) in enumerate(top_5, 1):\n",
    "        print(f\"{i}. Dimension: {dimension}, Count: {count}\")\n",
    "\n",
    "    # Print the number of images with one unique dimension\n",
    "    print(\"\\nThe number of images with one unique dimension:\" f\" {single_count}\\n\")"
   ]
  },
  {
   "cell_type": "code",
   "execution_count": 6,
   "id": "0d7fd9b6-3456-461a-b113-a0a576b52ec3",
   "metadata": {},
   "outputs": [
    {
     "name": "stdout",
     "output_type": "stream",
     "text": [
      "Directory: /home/elt/rw372/notebook/COMP8260 - A.I Systems/Project/Dataset/test\n",
      "Image with Smallest Dimensions: /home/elt/rw372/notebook/COMP8260 - A.I Systems/Project/Dataset/test/images/image1_4521_png.rf.9d460c80d2b830fc35b17c628a6d6290.jpg, Dimensions: 119x512\n",
      "Image with Largest Dimensions: /home/elt/rw372/notebook/COMP8260 - A.I Systems/Project/Dataset/test/images/distal-humerus-fracture-1_jpg.rf.831cb137cfcbde1079f86abd5f5f2867.jpg, Dimensions: 801x2048\n",
      "\n",
      "Directory: /home/elt/rw372/notebook/COMP8260 - A.I Systems/Project/Dataset/train\n",
      "Image with Smallest Dimensions: /home/elt/rw372/notebook/COMP8260 - A.I Systems/Project/Dataset/train/images/image1_3_png.rf.4f3936b1954ddb019efef8efe3594f6e.jpg, Dimensions: 135x406\n",
      "Image with Largest Dimensions: /home/elt/rw372/notebook/COMP8260 - A.I Systems/Project/Dataset/train/images/elbow-dislocation-with-coronoid-process-fracture_jpg.rf.75b67d2e40fe637ba2838e1283f970c5.jpg, Dimensions: 2048x2048\n",
      "\n",
      "Directory: /home/elt/rw372/notebook/COMP8260 - A.I Systems/Project/Dataset/valid\n",
      "Image with Smallest Dimensions: /home/elt/rw372/notebook/COMP8260 - A.I Systems/Project/Dataset/valid/images/image1_73_png.rf.d5a8af47f15d4d1eb631a42d4d6b6a6f.jpg, Dimensions: 130x512\n",
      "Image with Largest Dimensions: /home/elt/rw372/notebook/COMP8260 - A.I Systems/Project/Dataset/valid/images/coronoid-process-fracture_jpg.rf.71650459c69a9734ecd545067cf18bf4.jpg, Dimensions: 1409x1355\n",
      "\n"
     ]
    }
   ],
   "source": [
    "import os\n",
    "from PIL import Image\n",
    "\n",
    "def find_min_max_dimensions(directory):\n",
    "    min_length = float('inf')\n",
    "    min_width = float('inf')\n",
    "    max_length = 0\n",
    "    max_width = 0\n",
    "    min_image_path = None\n",
    "    max_image_path = None\n",
    "    \n",
    "    for root, _, files in os.walk(directory):\n",
    "        for file in files:\n",
    "            if file.endswith(\".jpg\"):  # Assuming images are in JPEG format\n",
    "                image_path = os.path.join(root, file)\n",
    "                with Image.open(image_path) as img:\n",
    "                    width, height = img.size\n",
    "                    if width * height < min_length * min_width:\n",
    "                        min_length = width\n",
    "                        min_width = height\n",
    "                        min_image_path = image_path\n",
    "                    if width * height > max_length * max_width:\n",
    "                        max_length = width\n",
    "                        max_width = height\n",
    "                        max_image_path = image_path\n",
    "    \n",
    "    return min_length, min_width, min_image_path, max_length, max_width, max_image_path\n",
    "\n",
    "directories = [\n",
    "    '/home/elt/rw372/notebook/COMP8260 - A.I Systems/Project/Dataset/test',\n",
    "    '/home/elt/rw372/notebook/COMP8260 - A.I Systems/Project/Dataset/train',\n",
    "    '/home/elt/rw372/notebook/COMP8260 - A.I Systems/Project/Dataset/valid'\n",
    "]\n",
    "\n",
    "for directory in directories:\n",
    "    min_length, min_width, min_image_path, max_length, max_width, max_image_path = find_min_max_dimensions(directory)\n",
    "    print(f\"Directory: {directory}\")\n",
    "    print(f\"Image with Smallest Dimensions: {min_image_path}, Dimensions: {min_length}x{min_width}\")\n",
    "    print(f\"Image with Largest Dimensions: {max_image_path}, Dimensions: {max_length}x{max_width}\\n\")"
   ]
  }
 ],
 "metadata": {
  "kernelspec": {
   "display_name": "Python 3 (ipykernel)",
   "language": "python",
   "name": "python3"
  },
  "language_info": {
   "codemirror_mode": {
    "name": "ipython",
    "version": 3
   },
   "file_extension": ".py",
   "mimetype": "text/x-python",
   "name": "python",
   "nbconvert_exporter": "python",
   "pygments_lexer": "ipython3",
   "version": "3.10.12"
  }
 },
 "nbformat": 4,
 "nbformat_minor": 5
}
